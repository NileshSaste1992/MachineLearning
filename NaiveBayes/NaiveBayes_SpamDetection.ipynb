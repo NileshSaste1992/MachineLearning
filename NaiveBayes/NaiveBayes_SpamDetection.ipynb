{
 "cells": [
  {
   "cell_type": "markdown",
   "metadata": {},
   "source": [
    "# Naive Bayes (the easy way)\n",
    "Let's load the emails from the folder spam and ham"
   ]
  },
  {
   "cell_type": "code",
   "execution_count": 1,
   "metadata": {},
   "outputs": [],
   "source": [
    "import io\n",
    "import os\n",
    "from pandas import DataFrame"
   ]
  },
  {
   "cell_type": "code",
   "execution_count": 2,
   "metadata": {},
   "outputs": [],
   "source": [
    "def getmessage(dir):\n",
    "    for root,dirname,filenames in os.walk(dir):\n",
    "        for filename in filenames:\n",
    "            path = os.path.join(root,filename)\n",
    "            pointer = False\n",
    "            lines = []\n",
    "            f = io.open(path,'r',encoding='latin1')\n",
    "            for line in f:\n",
    "                if pointer:\n",
    "                    lines.append(line)\n",
    "                elif line == '\\n':\n",
    "                    pointer = True\n",
    "            f.close()\n",
    "            message = '\\n'.join(lines)\n",
    "            yield path,message\n",
    "    "
   ]
  },
  {
   "cell_type": "code",
   "execution_count": 3,
   "metadata": {},
   "outputs": [],
   "source": [
    "def datafromdir(dir,classification):\n",
    "    rows = []\n",
    "    index = []\n",
    "    for path,message in getmessage(dir):\n",
    "        rows.append({'message':message,'classification':classification})\n",
    "        index.append(path)\n",
    "    return DataFrame(rows,index=index)"
   ]
  },
  {
   "cell_type": "code",
   "execution_count": 4,
   "metadata": {},
   "outputs": [
    {
     "name": "stderr",
     "output_type": "stream",
     "text": [
      "C:\\Users\\C5225062\\AppData\\Local\\Continuum\\anaconda3\\lib\\site-packages\\pandas\\core\\frame.py:6692: FutureWarning: Sorting because non-concatenation axis is not aligned. A future version\n",
      "of pandas will change to not sort by default.\n",
      "\n",
      "To accept the future behavior, pass 'sort=False'.\n",
      "\n",
      "To retain the current behavior and silence the warning, pass 'sort=True'.\n",
      "\n",
      "  sort=sort)\n"
     ]
    }
   ],
   "source": [
    "data = DataFrame({'message':[],'classification':[]})\n",
    "data = data.append(datafromdir('emails/spam','spam'))\n",
    "data = data.append(datafromdir('emails/ham','ham'))"
   ]
  },
  {
   "cell_type": "markdown",
   "metadata": {},
   "source": [
    "Dataframe looks like below"
   ]
  },
  {
   "cell_type": "code",
   "execution_count": 5,
   "metadata": {},
   "outputs": [
    {
     "data": {
      "text/html": [
       "<div>\n",
       "<style scoped>\n",
       "    .dataframe tbody tr th:only-of-type {\n",
       "        vertical-align: middle;\n",
       "    }\n",
       "\n",
       "    .dataframe tbody tr th {\n",
       "        vertical-align: top;\n",
       "    }\n",
       "\n",
       "    .dataframe thead th {\n",
       "        text-align: right;\n",
       "    }\n",
       "</style>\n",
       "<table border=\"1\" class=\"dataframe\">\n",
       "  <thead>\n",
       "    <tr style=\"text-align: right;\">\n",
       "      <th></th>\n",
       "      <th>classification</th>\n",
       "      <th>message</th>\n",
       "    </tr>\n",
       "  </thead>\n",
       "  <tbody>\n",
       "    <tr>\n",
       "      <th>emails/spam\\00001.7848dde101aa985090474a91ec93fcf0</th>\n",
       "      <td>spam</td>\n",
       "      <td>&lt;!DOCTYPE HTML PUBLIC \"-//W3C//DTD HTML 4.0 Tr...</td>\n",
       "    </tr>\n",
       "    <tr>\n",
       "      <th>emails/spam\\00002.d94f1b97e48ed3b553b3508d116e6a09</th>\n",
       "      <td>spam</td>\n",
       "      <td>1) Fight The Risk of Cancer!\\n\\nhttp://www.adc...</td>\n",
       "    </tr>\n",
       "    <tr>\n",
       "      <th>emails/spam\\00003.2ee33bc6eacdb11f38d052c44819ba6c</th>\n",
       "      <td>spam</td>\n",
       "      <td>1) Fight The Risk of Cancer!\\n\\nhttp://www.adc...</td>\n",
       "    </tr>\n",
       "    <tr>\n",
       "      <th>emails/spam\\00004.eac8de8d759b7e74154f142194282724</th>\n",
       "      <td>spam</td>\n",
       "      <td>##############################################...</td>\n",
       "    </tr>\n",
       "    <tr>\n",
       "      <th>emails/spam\\00005.57696a39d7d84318ce497886896bf90d</th>\n",
       "      <td>spam</td>\n",
       "      <td>I thought you might like these:\\n\\n1) Slim Dow...</td>\n",
       "    </tr>\n",
       "  </tbody>\n",
       "</table>\n",
       "</div>"
      ],
      "text/plain": [
       "                                                   classification  \\\n",
       "emails/spam\\00001.7848dde101aa985090474a91ec93fcf0           spam   \n",
       "emails/spam\\00002.d94f1b97e48ed3b553b3508d116e6a09           spam   \n",
       "emails/spam\\00003.2ee33bc6eacdb11f38d052c44819ba6c           spam   \n",
       "emails/spam\\00004.eac8de8d759b7e74154f142194282724           spam   \n",
       "emails/spam\\00005.57696a39d7d84318ce497886896bf90d           spam   \n",
       "\n",
       "                                                                                              message  \n",
       "emails/spam\\00001.7848dde101aa985090474a91ec93fcf0  <!DOCTYPE HTML PUBLIC \"-//W3C//DTD HTML 4.0 Tr...  \n",
       "emails/spam\\00002.d94f1b97e48ed3b553b3508d116e6a09  1) Fight The Risk of Cancer!\\n\\nhttp://www.adc...  \n",
       "emails/spam\\00003.2ee33bc6eacdb11f38d052c44819ba6c  1) Fight The Risk of Cancer!\\n\\nhttp://www.adc...  \n",
       "emails/spam\\00004.eac8de8d759b7e74154f142194282724  ##############################################...  \n",
       "emails/spam\\00005.57696a39d7d84318ce497886896bf90d  I thought you might like these:\\n\\n1) Slim Dow...  "
      ]
     },
     "execution_count": 5,
     "metadata": {},
     "output_type": "execute_result"
    }
   ],
   "source": [
    "data.head()"
   ]
  },
  {
   "cell_type": "code",
   "execution_count": 6,
   "metadata": {},
   "outputs": [
    {
     "data": {
      "text/html": [
       "<div>\n",
       "<style scoped>\n",
       "    .dataframe tbody tr th:only-of-type {\n",
       "        vertical-align: middle;\n",
       "    }\n",
       "\n",
       "    .dataframe tbody tr th {\n",
       "        vertical-align: top;\n",
       "    }\n",
       "\n",
       "    .dataframe thead th {\n",
       "        text-align: right;\n",
       "    }\n",
       "</style>\n",
       "<table border=\"1\" class=\"dataframe\">\n",
       "  <thead>\n",
       "    <tr style=\"text-align: right;\">\n",
       "      <th></th>\n",
       "      <th>classification</th>\n",
       "      <th>message</th>\n",
       "    </tr>\n",
       "  </thead>\n",
       "  <tbody>\n",
       "    <tr>\n",
       "      <th>emails/ham\\02496.aae0c81581895acfe65323f344340856</th>\n",
       "      <td>ham</td>\n",
       "      <td>Man killed 'trying to surf' on Tube train \\n\\n...</td>\n",
       "    </tr>\n",
       "    <tr>\n",
       "      <th>emails/ham\\02497.60497db0a06c2132ec2374b2898084d3</th>\n",
       "      <td>ham</td>\n",
       "      <td>Hi Gianni,\\n\\n\\n\\nA very good resource for thi...</td>\n",
       "    </tr>\n",
       "    <tr>\n",
       "      <th>emails/ham\\02498.09835f512f156da210efb99fcc523e21</th>\n",
       "      <td>ham</td>\n",
       "      <td>Gianni Ponzi wrote:\\n\\n&gt; I have a prob when tr...</td>\n",
       "    </tr>\n",
       "    <tr>\n",
       "      <th>emails/ham\\02499.b4af165650f138b10f9941f6cc5bce3c</th>\n",
       "      <td>ham</td>\n",
       "      <td>Neale Pickett &lt;neale@woozle.org&gt; writes:\\n\\n\\n...</td>\n",
       "    </tr>\n",
       "    <tr>\n",
       "      <th>emails/ham\\02500.05b3496ce7bca306bed0805425ec8621</th>\n",
       "      <td>ham</td>\n",
       "      <td>\\n\\nHi,\\n\\n\\n\\nI think you need to give us a l...</td>\n",
       "    </tr>\n",
       "  </tbody>\n",
       "</table>\n",
       "</div>"
      ],
      "text/plain": [
       "                                                  classification  \\\n",
       "emails/ham\\02496.aae0c81581895acfe65323f344340856            ham   \n",
       "emails/ham\\02497.60497db0a06c2132ec2374b2898084d3            ham   \n",
       "emails/ham\\02498.09835f512f156da210efb99fcc523e21            ham   \n",
       "emails/ham\\02499.b4af165650f138b10f9941f6cc5bce3c            ham   \n",
       "emails/ham\\02500.05b3496ce7bca306bed0805425ec8621            ham   \n",
       "\n",
       "                                                                                             message  \n",
       "emails/ham\\02496.aae0c81581895acfe65323f344340856  Man killed 'trying to surf' on Tube train \\n\\n...  \n",
       "emails/ham\\02497.60497db0a06c2132ec2374b2898084d3  Hi Gianni,\\n\\n\\n\\nA very good resource for thi...  \n",
       "emails/ham\\02498.09835f512f156da210efb99fcc523e21  Gianni Ponzi wrote:\\n\\n> I have a prob when tr...  \n",
       "emails/ham\\02499.b4af165650f138b10f9941f6cc5bce3c  Neale Pickett <neale@woozle.org> writes:\\n\\n\\n...  \n",
       "emails/ham\\02500.05b3496ce7bca306bed0805425ec8621  \\n\\nHi,\\n\\n\\n\\nI think you need to give us a l...  "
      ]
     },
     "execution_count": 6,
     "metadata": {},
     "output_type": "execute_result"
    }
   ],
   "source": [
    "data.tail()"
   ]
  },
  {
   "cell_type": "markdown",
   "metadata": {},
   "source": [
    "Now we will use a CountVectorizer to split up each message into its list of words, and throw that into a MultinomialNB classifier. Call fit() and we've got a trained spam filter ready to go! It's just that easy."
   ]
  },
  {
   "cell_type": "code",
   "execution_count": 7,
   "metadata": {},
   "outputs": [],
   "source": [
    "from sklearn.naive_bayes import MultinomialNB\n",
    "from sklearn.feature_extraction.text import CountVectorizer"
   ]
  },
  {
   "cell_type": "code",
   "execution_count": 8,
   "metadata": {},
   "outputs": [
    {
     "data": {
      "text/plain": [
       "MultinomialNB(alpha=1.0, class_prior=None, fit_prior=True)"
      ]
     },
     "execution_count": 8,
     "metadata": {},
     "output_type": "execute_result"
    }
   ],
   "source": [
    "vecorize = CountVectorizer()\n",
    "counts = vecorize.fit_transform(data['message'].values)\n",
    "classifier = MultinomialNB()\n",
    "targets=data['classification'].values\n",
    "classifier.fit(counts,targets)"
   ]
  },
  {
   "cell_type": "code",
   "execution_count": 9,
   "metadata": {},
   "outputs": [
    {
     "name": "stdout",
     "output_type": "stream",
     "text": [
      "['spam' 'ham' 'ham' 'spam']\n"
     ]
    }
   ],
   "source": [
    "examples = ['Guaranteed to lose','Let us go for a walk','Fight The Risk of Cancer!','Extended Auto Warranties Here']\n",
    "example_count = vecorize.transform(examples)\n",
    "prediction = classifier.predict(example_count)\n",
    "print(prediction)"
   ]
  },
  {
   "cell_type": "code",
   "execution_count": null,
   "metadata": {},
   "outputs": [],
   "source": []
  }
 ],
 "metadata": {
  "kernelspec": {
   "display_name": "Python 3",
   "language": "python",
   "name": "python3"
  },
  "language_info": {
   "codemirror_mode": {
    "name": "ipython",
    "version": 3
   },
   "file_extension": ".py",
   "mimetype": "text/x-python",
   "name": "python",
   "nbconvert_exporter": "python",
   "pygments_lexer": "ipython3",
   "version": "3.7.3"
  }
 },
 "nbformat": 4,
 "nbformat_minor": 2
}
