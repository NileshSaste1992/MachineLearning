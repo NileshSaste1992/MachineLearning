{
 "cells": [
  {
   "cell_type": "markdown",
   "metadata": {},
   "source": [
    "# Introducing Keras\n",
    "Let's use Keras on the MNIST data set again, this time using a Convolutional Neural Network that's better suited for image processing. CNN's are less sensitive to where in the image the pattern is that we're looking for."
   ]
  },
  {
   "cell_type": "code",
   "execution_count": 1,
   "metadata": {},
   "outputs": [],
   "source": [
    "import tensorflow as tf\n",
    "from tensorflow.keras.datasets import mnist\n",
    "from tensorflow.keras.models import Sequential\n",
    "from tensorflow.keras.layers import Conv2D,Dense,Dropout,MaxPool2D,Flatten\n",
    "import tensorflow.keras.backend as K"
   ]
  },
  {
   "cell_type": "markdown",
   "metadata": {},
   "source": [
    "We need to shape the data differently then before. Since we're treating the data as 2D images of 28x28 pixels instead of a flattened stream of 784 pixels, we need to shape it accordingly. Depending on the data format Keras is set up for, this may be 1x28x28 or 28x28x1 (the \"1\" indicates a single color channel, as this is just grayscale."
   ]
  },
  {
   "cell_type": "code",
   "execution_count": 2,
   "metadata": {},
   "outputs": [],
   "source": [
    "(mnist_train_data,mnist_train_label),(mnist_test_data,mnist_test_label) = mnist.load_data()\n",
    "\n",
    "if K.image_data_format == \"channels_first\":\n",
    "    train_data = mnist_train_data.reshape(mnist_train_data.shape[0],1,28,28)\n",
    "    test_data = mnist_test_data.reshape(mnist_test_data.shape[0],1,28,28)\n",
    "    input_shape = (1,28,28)\n",
    "else:\n",
    "    train_data = mnist_train_data.reshape(mnist_train_data.shape[0],28,28,1)\n",
    "    test_data = mnist_test_data.reshape(mnist_test_data.shape[0],28,28,1)\n",
    "    input_shape = (28,28,1)\n",
    "    \n",
    "train_data,test_data = train_data.astype('float32'),test_data.astype('float32')\n",
    "train_data,test_data = train_data/255,test_data/255\n",
    "\n",
    "#As before we need to convert our train and test labels to be categorical in one-hot format:\n",
    "train_label = tf.keras.utils.to_categorical(mnist_train_label,10)\n",
    "test_label = tf.keras.utils.to_categorical(mnist_test_label,10)"
   ]
  },
  {
   "cell_type": "code",
   "execution_count": 3,
   "metadata": {},
   "outputs": [
    {
     "name": "stdout",
     "output_type": "stream",
     "text": [
      "[0. 0. 0. 1. 0. 0. 0. 0. 0. 0.]\n"
     ]
    },
    {
     "data": {
      "image/png": "[encoded data removed]",
      "text/plain": [
       "<Figure size 432x288 with 1 Axes>"
      ]
     },
     "metadata": {
      "needs_background": "light"
     },
     "output_type": "display_data"
    }
   ],
   "source": [
    "%matplotlib inline\n",
    "import matplotlib.pyplot as plt\n",
    "def print_number(num):\n",
    "    label = train_label[num].argmax(axis=0)\n",
    "    print(train_label[num])\n",
    "    image = train_data[num].reshape([28,28])\n",
    "    plt.title(\"Number: %i, label: %i\" %(num,label))\n",
    "    plt.imshow(image,cmap=plt.get_cmap('gray_r'))\n",
    "    plt.show()\n",
    "print_number(1234)"
   ]
  },
  {
   "cell_type": "code",
   "execution_count": 4,
   "metadata": {},
   "outputs": [
    {
     "name": "stdout",
     "output_type": "stream",
     "text": [
      "WARNING:tensorflow:From C:\\Users\\C5225062\\AppData\\Local\\Continuum\\anaconda3\\lib\\site-packages\\tensorflow\\python\\ops\\init_ops.py:1251: calling VarianceScaling.__init__ (from tensorflow.python.ops.init_ops) with dtype is deprecated and will be removed in a future version.\n",
      "Instructions for updating:\n",
      "Call initializer instance with the dtype argument instead of passing it to the constructor\n"
     ]
    }
   ],
   "source": [
    "model = Sequential()\n",
    "\n",
    "model.add(Conv2D(32,kernel_size=(3,3),activation='relu',input_shape=input_shape))\n",
    "# 64 3x3 kernels\n",
    "model.add(Conv2D(64,activation='relu',kernel_size=(2,2)))\n",
    "# Reduce by taking the max of each 2x2 block\n",
    "model.add(MaxPool2D(pool_size=(2,2)))\n",
    "# Dropout to avoid overfitting\n",
    "model.add(Dropout(0.25))\n",
    "# Flatten the results to one dimension for passing into our final layer\n",
    "model.add(Flatten())\n",
    "# A hidden layer to learn with\n",
    "model.add(Dense(128,activation='relu'))\n",
    "# Another dropout\n",
    "model.add(Dropout(0.25))\n",
    "# Final categorization from 0-9 with softmax\n",
    "model.add(Dense(10,activation='softmax'))"
   ]
  },
  {
   "cell_type": "markdown",
   "metadata": {},
   "source": [
    "Let's double check the model description:"
   ]
  },
  {
   "cell_type": "code",
   "execution_count": 5,
   "metadata": {},
   "outputs": [
    {
     "name": "stdout",
     "output_type": "stream",
     "text": [
      "Model: \"sequential\"\n",
      "_________________________________________________________________\n",
      "Layer (type)                 Output Shape              Param #   \n",
      "=================================================================\n",
      "conv2d (Conv2D)              (None, 26, 26, 32)        320       \n",
      "_________________________________________________________________\n",
      "conv2d_1 (Conv2D)            (None, 25, 25, 64)        8256      \n",
      "_________________________________________________________________\n",
      "max_pooling2d (MaxPooling2D) (None, 12, 12, 64)        0         \n",
      "_________________________________________________________________\n",
      "dropout (Dropout)            (None, 12, 12, 64)        0         \n",
      "_________________________________________________________________\n",
      "flatten (Flatten)            (None, 9216)              0         \n",
      "_________________________________________________________________\n",
      "dense (Dense)                (None, 128)               1179776   \n",
      "_________________________________________________________________\n",
      "dropout_1 (Dropout)          (None, 128)               0         \n",
      "_________________________________________________________________\n",
      "dense_1 (Dense)              (None, 10)                1290      \n",
      "=================================================================\n",
      "Total params: 1,189,642\n",
      "Trainable params: 1,189,642\n",
      "Non-trainable params: 0\n",
      "_________________________________________________________________\n"
     ]
    }
   ],
   "source": [
    "model.summary()"
   ]
  },
  {
   "cell_type": "markdown",
   "metadata": {},
   "source": [
    "We are still doing multiple categorization, so categorical_crossentropy is still the right loss function to use. We'll use the Adam optimizer, although the example provided with Keras uses RMSProp. You might want to try both if you have time."
   ]
  },
  {
   "cell_type": "code",
   "execution_count": 6,
   "metadata": {},
   "outputs": [],
   "source": [
    "model.compile(loss='categorical_crossentropy',optimizer='adam',metrics=['accuracy'])"
   ]
  },
  {
   "cell_type": "code",
   "execution_count": 7,
   "metadata": {},
   "outputs": [
    {
     "name": "stdout",
     "output_type": "stream",
     "text": [
      "Train on 60000 samples, validate on 10000 samples\n",
      "Epoch 1/10\n",
      "60000/60000 - 150s - loss: 0.1513 - acc: 0.9540 - val_loss: 0.0486 - val_acc: 0.9839\n",
      "Epoch 2/10\n",
      "60000/60000 - 144s - loss: 0.0605 - acc: 0.9818 - val_loss: 0.0387 - val_acc: 0.9866\n",
      "Epoch 3/10\n",
      "60000/60000 - 127s - loss: 0.0440 - acc: 0.9862 - val_loss: 0.0290 - val_acc: 0.9902\n",
      "Epoch 4/10\n",
      "60000/60000 - 160s - loss: 0.0345 - acc: 0.9886 - val_loss: 0.0358 - val_acc: 0.9893\n",
      "Epoch 5/10\n",
      "60000/60000 - 134s - loss: 0.0276 - acc: 0.9908 - val_loss: 0.0305 - val_acc: 0.9912\n",
      "Epoch 6/10\n",
      "60000/60000 - 137s - loss: 0.0220 - acc: 0.9927 - val_loss: 0.0334 - val_acc: 0.9909\n",
      "Epoch 7/10\n",
      "60000/60000 - 133s - loss: 0.0201 - acc: 0.9936 - val_loss: 0.0298 - val_acc: 0.9907\n",
      "Epoch 8/10\n",
      "60000/60000 - 112s - loss: 0.0162 - acc: 0.9945 - val_loss: 0.0369 - val_acc: 0.9912\n",
      "Epoch 9/10\n",
      "60000/60000 - 108s - loss: 0.0152 - acc: 0.9949 - val_loss: 0.0320 - val_acc: 0.9914\n",
      "Epoch 10/10\n",
      "60000/60000 - 108s - loss: 0.0150 - acc: 0.9952 - val_loss: 0.0345 - val_acc: 0.9920\n"
     ]
    }
   ],
   "source": [
    "history = model.fit(\n",
    "                    train_data,train_label,\n",
    "                    batch_size=32,\n",
    "                    epochs=10,\n",
    "                    verbose=2,\n",
    "                    validation_data=(test_data,test_label)\n",
    "    )"
   ]
  },
  {
   "cell_type": "code",
   "execution_count": 8,
   "metadata": {},
   "outputs": [
    {
     "name": "stdout",
     "output_type": "stream",
     "text": [
      "Loss: 0.034526\n",
      "Accuracy : 0.992000\n"
     ]
    }
   ],
   "source": [
    "score = model.evaluate(test_data,test_label,verbose=0)\n",
    "print(\"Loss: %f\" %(score[0]))\n",
    "print(\"Accuracy : %f\" %(score[1]))"
   ]
  },
  {
   "cell_type": "code",
   "execution_count": null,
   "metadata": {},
   "outputs": [],
   "source": []
  }
 ],
 "metadata": {
  "kernelspec": {
   "display_name": "Python 3",
   "language": "python",
   "name": "python3"
  },
  "language_info": {
   "codemirror_mode": {
    "name": "ipython",
    "version": 3
   },
   "file_extension": ".py",
   "mimetype": "text/x-python",
   "name": "python",
   "nbconvert_exporter": "python",
   "pygments_lexer": "ipython3",
   "version": "3.7.3"
  }
 },
 "nbformat": 4,
 "nbformat_minor": 2
}
